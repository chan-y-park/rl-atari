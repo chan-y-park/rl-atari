{
 "cells": [
  {
   "cell_type": "markdown",
   "metadata": {
    "deletable": true,
    "editable": true
   },
   "source": [
    "From gym/README.rst \n",
    "==========\n",
    "\n",
    "* There are two basic concepts in reinforcement learning: the environment (namely, the outside world) and the agent (namely, the algorithm you are writing). The agent sends actions to the environment, and the environment replies with observations and rewards (that is, a score).\n",
    "\n",
    "* The core gym interface is Env, which is the unified environment interface. There is no interface for agents; that part is left to you. The following are the Env methods you should know:\n",
    "\n",
    "  * reset(self): Reset the environment's state. Returns observation.\n",
    "  * step(self, action): Step the environment by one timestep. Returns observation, reward, done, info.\n",
    "  * render(self, mode='human', close=False): Render one frame of the environment. The default mode will do something human friendly, such as pop up a window. Passing the close flag signals the renderer to close any such windows."
   ]
  },
  {
   "cell_type": "markdown",
   "metadata": {
    "deletable": true,
    "editable": true
   },
   "source": [
    "From ALE manual:\n",
    "========\n",
    "\n",
    "* The action space consists of both Player A and Player B’s actions (see Section 7.1 for details). In general, Player B’s action may safely be set to noop (18) but it should be left out altogether if the restricted_action_set option is set to true.\n",
    "\n",
    "* Available Actions: The following regular actions are defined in common/Constants.h and interpreted by ALE:\n",
    "  * noop (0)  fire (1)  up (2)  right (3)  left (4) \n",
    "  * down (5)  up-right (6)  up-left (7)  down-right (8)  down-left (9)\n",
    "  * up-fire (10)  right-fire (11)  left-fire (12)  down-fire (13)  up-right-fire (14)\n",
    "  * up-left-fire (15)  down-right-fire (16)  down-left-fire (17)  reset* (40)\n",
    "\n",
    "* Note that the reset (40) action toggles the Atari 2600 switch, rather than reset the environment, and as such is ignored by most interfaces. The shared library, CTypes, and fifo interfaces provide methods for properly resetting the environment.\n",
    "\n",
    "* Player B’s actions are defined to be 18 + the equivalent action value for Player A. For example, Player B’s up action is up (20). In addition to the regular ALE actions, the following (somewhat deprecated) actions are also processed by the FIFO interfaces:\n",
    "\n",
    "* The observation space depends on whether the send_rgb option is enabled. When enabled, the observation space consists of 100,928 integers: first the 128 bytes of RAM (taking values in 0–255), followed by 100,800 bytes describing the screen. Each pixel is described by three bytes, taking values in 0–255, specifying the pixel’s red, green and blue components in that order. The screen is provided in row-order, beginning with the 160 pixels that compose the first row. If send_rgb is disabled (this is the default), the observation space consists of 33,728 integers: first the 128 bytes of RAM, then the 33,600 screen pixels (in NTSC format; values in 0–127). These pixels are also provided in row order.\n",
    "\n"
   ]
  },
  {
   "cell_type": "code",
   "execution_count": null,
   "metadata": {
    "ExecuteTime": {
     "end_time": "2017-04-18T02:33:16.703507Z",
     "start_time": "2017-04-17T22:33:16.059650-04:00"
    },
    "collapsed": false,
    "deletable": true,
    "editable": true
   },
   "outputs": [],
   "source": [
    "from dqn import AtariDQNAgent"
   ]
  },
  {
   "cell_type": "code",
   "execution_count": null,
   "metadata": {
    "ExecuteTime": {
     "end_time": "2017-04-18T02:33:17.224694Z",
     "start_time": "2017-04-17T22:33:17.066485-04:00"
    },
    "collapsed": false,
    "deletable": true,
    "editable": true
   },
   "outputs": [],
   "source": [
    "agent = AtariDQNAgent()"
   ]
  },
  {
   "cell_type": "code",
   "execution_count": null,
   "metadata": {
    "ExecuteTime": {
     "end_time": "2017-04-18T02:33:18.626865Z",
     "start_time": "2017-04-17T22:33:17.694893-04:00"
    },
    "collapsed": false,
    "deletable": true,
    "editable": true
   },
   "outputs": [],
   "source": [
    "agent.train(50)"
   ]
  },
  {
   "cell_type": "code",
   "execution_count": null,
   "metadata": {
    "ExecuteTime": {
     "end_time": "2017-04-17T14:17:06.508070Z",
     "start_time": "2017-04-17T10:17:06.410850-04:00"
    },
    "collapsed": true,
    "deletable": true,
    "editable": true
   },
   "outputs": [],
   "source": [
    "import gym"
   ]
  },
  {
   "cell_type": "code",
   "execution_count": null,
   "metadata": {
    "ExecuteTime": {
     "end_time": "2017-04-17T14:17:07.067510Z",
     "start_time": "2017-04-17T10:17:07.021743-04:00"
    },
    "collapsed": false,
    "deletable": true,
    "editable": true
   },
   "outputs": [],
   "source": [
    "breakout = gym.make('Breakout-v0')"
   ]
  },
  {
   "cell_type": "code",
   "execution_count": null,
   "metadata": {
    "ExecuteTime": {
     "end_time": "2017-04-17T14:17:07.861513Z",
     "start_time": "2017-04-17T10:17:07.852861-04:00"
    },
    "collapsed": false,
    "deletable": true,
    "editable": true
   },
   "outputs": [],
   "source": [
    "breakout.metadata"
   ]
  },
  {
   "cell_type": "code",
   "execution_count": null,
   "metadata": {
    "ExecuteTime": {
     "end_time": "2017-04-17T14:17:09.333638Z",
     "start_time": "2017-04-17T10:17:09.325450-04:00"
    },
    "collapsed": false,
    "deletable": true,
    "editable": true
   },
   "outputs": [],
   "source": [
    "repr(breakout)"
   ]
  },
  {
   "cell_type": "code",
   "execution_count": null,
   "metadata": {
    "ExecuteTime": {
     "end_time": "2017-04-12T21:27:49.215386Z",
     "start_time": "2017-04-12T17:27:49.210574-04:00"
    },
    "collapsed": false,
    "deletable": true,
    "editable": true
   },
   "outputs": [],
   "source": [
    "repr(breakout.env)"
   ]
  },
  {
   "cell_type": "code",
   "execution_count": null,
   "metadata": {
    "ExecuteTime": {
     "end_time": "2017-04-14T20:08:02.138020Z",
     "start_time": "2017-04-14T16:08:02.116232-04:00"
    },
    "collapsed": false,
    "deletable": true,
    "editable": true
   },
   "outputs": [],
   "source": [
    "breakout.env.__init__(game='breakout', obs_type='image', frameskip=1, repeat_action_probability=0)"
   ]
  },
  {
   "cell_type": "code",
   "execution_count": null,
   "metadata": {
    "ExecuteTime": {
     "end_time": "2017-04-12T21:44:16.482244Z",
     "start_time": "2017-04-12T17:44:16.479203-04:00"
    },
    "collapsed": false,
    "deletable": true,
    "editable": true
   },
   "outputs": [],
   "source": [
    "breakout.env._action_set"
   ]
  },
  {
   "cell_type": "code",
   "execution_count": null,
   "metadata": {
    "ExecuteTime": {
     "end_time": "2017-04-17T14:17:13.852661Z",
     "start_time": "2017-04-17T10:17:13.839419-04:00"
    },
    "collapsed": false,
    "deletable": true,
    "editable": true
   },
   "outputs": [],
   "source": [
    "initial_observation = breakout.reset()"
   ]
  },
  {
   "cell_type": "code",
   "execution_count": null,
   "metadata": {
    "ExecuteTime": {
     "end_time": "2017-04-17T14:17:14.297894Z",
     "start_time": "2017-04-17T10:17:14.292194-04:00"
    },
    "collapsed": false,
    "deletable": true,
    "editable": true
   },
   "outputs": [],
   "source": [
    "initial_observation.shape"
   ]
  },
  {
   "cell_type": "code",
   "execution_count": null,
   "metadata": {
    "ExecuteTime": {
     "end_time": "2017-04-17T14:25:36.773353Z",
     "start_time": "2017-04-17T10:25:36.766942-04:00"
    },
    "collapsed": false,
    "deletable": true,
    "editable": true
   },
   "outputs": [],
   "source": [
    "import numpy as np\n",
    "from PIL import Image"
   ]
  },
  {
   "cell_type": "code",
   "execution_count": null,
   "metadata": {
    "ExecuteTime": {
     "end_time": "2017-04-14T20:08:13.326884Z",
     "start_time": "2017-04-14T16:08:13.321781-04:00"
    },
    "collapsed": false,
    "deletable": true,
    "editable": true
   },
   "outputs": [],
   "source": [
    "img = Image.fromarray(initial_observation)"
   ]
  },
  {
   "cell_type": "code",
   "execution_count": null,
   "metadata": {
    "ExecuteTime": {
     "end_time": "2017-04-14T20:08:13.760375Z",
     "start_time": "2017-04-14T16:08:13.737602-04:00"
    },
    "collapsed": false,
    "deletable": true,
    "editable": true
   },
   "outputs": [],
   "source": [
    "img"
   ]
  },
  {
   "cell_type": "code",
   "execution_count": null,
   "metadata": {
    "ExecuteTime": {
     "end_time": "2017-04-12T21:27:54.564848Z",
     "start_time": "2017-04-12T17:27:54.561182-04:00"
    },
    "collapsed": false,
    "deletable": true,
    "editable": true
   },
   "outputs": [],
   "source": [
    "img.convert(mode='1', dither=Image.NONE)"
   ]
  },
  {
   "cell_type": "code",
   "execution_count": null,
   "metadata": {
    "ExecuteTime": {
     "end_time": "2017-04-17T14:26:12.599079Z",
     "start_time": "2017-04-17T10:26:12.590251-04:00"
    },
    "collapsed": false,
    "deletable": true,
    "editable": true
   },
   "outputs": [],
   "source": [
    "def preprocess(observation, new_width=84, new_height=110, threshold=1):\n",
    "    img = Image.fromarray(observation)\n",
    "    # TODO: remove resizing/grayscaling/thresholding.\n",
    "    img = img.convert('L')\n",
    "    new_size = (new_width, new_height) \n",
    "    img = img.resize(new_size)\n",
    "    \n",
    "    obs = np.array(img)\n",
    "    \n",
    "    obs[obs < threshold] = 0\n",
    "    obs[obs >= threshold] = 255\n",
    "    obs = obs[-new_width:, :]\n",
    "    return obs"
   ]
  },
  {
   "cell_type": "code",
   "execution_count": null,
   "metadata": {
    "ExecuteTime": {
     "end_time": "2017-04-17T14:26:12.960080Z",
     "start_time": "2017-04-17T10:26:12.953303-04:00"
    },
    "collapsed": false,
    "deletable": true,
    "editable": true
   },
   "outputs": [],
   "source": [
    "Image.fromarray(preprocess(initial_observation))"
   ]
  },
  {
   "cell_type": "code",
   "execution_count": null,
   "metadata": {
    "ExecuteTime": {
     "end_time": "2017-04-12T21:28:10.351790Z",
     "start_time": "2017-04-12T17:28:10.349084-04:00"
    },
    "collapsed": true,
    "deletable": true,
    "editable": true
   },
   "outputs": [],
   "source": [
    "obs = preprocess(initial_observation)"
   ]
  },
  {
   "cell_type": "code",
   "execution_count": null,
   "metadata": {
    "ExecuteTime": {
     "end_time": "2017-04-12T21:28:18.633786Z",
     "start_time": "2017-04-12T17:28:18.630816-04:00"
    },
    "collapsed": false,
    "deletable": true,
    "editable": true
   },
   "outputs": [],
   "source": [
    "breakout.action_space"
   ]
  },
  {
   "cell_type": "code",
   "execution_count": null,
   "metadata": {
    "ExecuteTime": {
     "end_time": "2017-04-12T21:28:18.957902Z",
     "start_time": "2017-04-12T17:28:18.953146-04:00"
    },
    "collapsed": false,
    "deletable": true,
    "editable": true
   },
   "outputs": [],
   "source": [
    "atari_action = {\n",
    "    0: 'noop',\n",
    "    1: 'fire',\n",
    "    2: 'up',\n",
    "    3: 'right',\n",
    "    4: 'left',\n",
    "    5: 'down',\n",
    "    11: 'right-fire',\n",
    "    12: 'left-fire',\n",
    "}"
   ]
  },
  {
   "cell_type": "code",
   "execution_count": null,
   "metadata": {
    "ExecuteTime": {
     "end_time": "2017-04-12T21:28:19.307892Z",
     "start_time": "2017-04-12T17:28:19.300712-04:00"
    },
    "collapsed": false,
    "deletable": true,
    "editable": true
   },
   "outputs": [],
   "source": [
    "for i, action_value in enumerate(breakout.env._action_set):\n",
    "    print('{}: {}'.format(i, atari_action[breakout.env._action_set[i]]))"
   ]
  },
  {
   "cell_type": "code",
   "execution_count": null,
   "metadata": {
    "ExecuteTime": {
     "end_time": "2017-04-14T20:22:39.893506Z",
     "start_time": "2017-04-14T16:22:39.885739-04:00"
    },
    "collapsed": false,
    "deletable": true,
    "editable": true
   },
   "outputs": [],
   "source": [
    "observation, reward, done, info = breakout.step(0)\n",
    "Image.fromarray(observation)"
   ]
  },
  {
   "cell_type": "code",
   "execution_count": null,
   "metadata": {
    "ExecuteTime": {
     "end_time": "2017-04-14T20:22:40.519143Z",
     "start_time": "2017-04-14T16:22:40.511839-04:00"
    },
    "collapsed": false,
    "deletable": true,
    "editable": true
   },
   "outputs": [],
   "source": [
    "info, done"
   ]
  },
  {
   "cell_type": "code",
   "execution_count": null,
   "metadata": {
    "ExecuteTime": {
     "end_time": "2017-04-14T20:21:09.941827Z",
     "start_time": "2017-04-14T16:20:58.049869-04:00"
    },
    "collapsed": false,
    "deletable": true,
    "editable": true
   },
   "outputs": [],
   "source": [
    "import random\n",
    "steps = 0\n",
    "breakout.reset()\n",
    "observation, reward, done, info = breakout.step(0)\n",
    "lives = info['ale.lives']\n",
    "while done or steps < 400:\n",
    "    observation, reward, done, info = breakout.step(random.randint(1, 2))\n",
    "    steps += 1"
   ]
  },
  {
   "cell_type": "code",
   "execution_count": null,
   "metadata": {
    "ExecuteTime": {
     "end_time": "2017-04-14T20:20:54.315770Z",
     "start_time": "2017-04-14T16:20:54.310780-04:00"
    },
    "collapsed": false,
    "deletable": true,
    "editable": true
   },
   "outputs": [],
   "source": [
    "Image.fromarray(observation)"
   ]
  },
  {
   "cell_type": "code",
   "execution_count": null,
   "metadata": {
    "ExecuteTime": {
     "end_time": "2017-04-14T20:08:28.546569Z",
     "start_time": "2017-04-14T16:08:28.199629-04:00"
    },
    "collapsed": true,
    "deletable": true,
    "editable": true
   },
   "outputs": [],
   "source": [
    "breakout.render()"
   ]
  },
  {
   "cell_type": "code",
   "execution_count": null,
   "metadata": {
    "ExecuteTime": {
     "end_time": "2017-04-11T20:03:18.387277Z",
     "start_time": "2017-04-11T16:03:18.383847-04:00"
    },
    "collapsed": false,
    "deletable": true,
    "editable": true
   },
   "outputs": [],
   "source": [
    "_ = breakout.step(0)"
   ]
  },
  {
   "cell_type": "code",
   "execution_count": null,
   "metadata": {
    "ExecuteTime": {
     "end_time": "2017-04-11T20:09:48.426237Z",
     "start_time": "2017-04-11T16:09:48.420566-04:00"
    },
    "collapsed": false,
    "deletable": true,
    "editable": true
   },
   "outputs": [],
   "source": [
    "reward, done, info"
   ]
  },
  {
   "cell_type": "code",
   "execution_count": null,
   "metadata": {
    "ExecuteTime": {
     "end_time": "2017-04-17T14:36:00.935766Z",
     "start_time": "2017-04-17T10:36:00.931589-04:00"
    },
    "collapsed": false,
    "deletable": true,
    "editable": true
   },
   "outputs": [],
   "source": [
    "obs = preprocess(initial_observation).reshape((84, 84, 1))\n",
    "obs = np.tile(obs, (1, 1, 4))"
   ]
  },
  {
   "cell_type": "code",
   "execution_count": null,
   "metadata": {
    "ExecuteTime": {
     "end_time": "2017-04-17T14:36:01.873236Z",
     "start_time": "2017-04-17T10:36:01.868568-04:00"
    },
    "collapsed": false,
    "deletable": true,
    "editable": true
   },
   "outputs": [],
   "source": [
    "obs.shape"
   ]
  },
  {
   "cell_type": "code",
   "execution_count": null,
   "metadata": {
    "ExecuteTime": {
     "end_time": "2017-04-17T14:41:19.944150Z",
     "start_time": "2017-04-17T10:41:19.938232-04:00"
    },
    "collapsed": false,
    "deletable": true,
    "editable": true
   },
   "outputs": [],
   "source": [
    "Image.fromarray(obs[:, :, 1])"
   ]
  },
  {
   "cell_type": "code",
   "execution_count": null,
   "metadata": {
    "ExecuteTime": {
     "end_time": "2017-04-17T14:41:45.034909Z",
     "start_time": "2017-04-17T10:41:45.025609-04:00"
    },
    "collapsed": false,
    "deletable": true,
    "editable": true
   },
   "outputs": [],
   "source": [
    "obs.dtype"
   ]
  },
  {
   "cell_type": "code",
   "execution_count": null,
   "metadata": {
    "ExecuteTime": {
     "end_time": "2017-04-17T14:41:55.275435Z",
     "start_time": "2017-04-17T10:41:55.270860-04:00"
    },
    "collapsed": true,
    "deletable": true,
    "editable": true
   },
   "outputs": [],
   "source": [
    "new_ob = np.zeros(obs.shape[:2], dtype=obs.dtype).reshape(84, 84, 1)"
   ]
  },
  {
   "cell_type": "code",
   "execution_count": null,
   "metadata": {
    "ExecuteTime": {
     "end_time": "2017-04-17T14:41:56.854099Z",
     "start_time": "2017-04-17T10:41:56.850248-04:00"
    },
    "collapsed": false,
    "deletable": true,
    "editable": true
   },
   "outputs": [],
   "source": [
    "new_ob[:, :, 0].shape"
   ]
  },
  {
   "cell_type": "code",
   "execution_count": null,
   "metadata": {
    "ExecuteTime": {
     "end_time": "2017-04-17T14:42:09.257603Z",
     "start_time": "2017-04-17T10:42:09.253300-04:00"
    },
    "collapsed": false,
    "deletable": true,
    "editable": true
   },
   "outputs": [],
   "source": [
    "Image.fromarray(new_ob[:, :, 0])"
   ]
  },
  {
   "cell_type": "code",
   "execution_count": null,
   "metadata": {
    "ExecuteTime": {
     "end_time": "2017-04-17T14:46:31.934247Z",
     "start_time": "2017-04-17T10:46:31.928775-04:00"
    },
    "collapsed": false,
    "deletable": true,
    "editable": true
   },
   "outputs": [],
   "source": [
    "def append_new_ob(obs, new_ob):\n",
    "    return np.append(new_ob, obs[:, :, 1:], axis=2)"
   ]
  },
  {
   "cell_type": "code",
   "execution_count": null,
   "metadata": {
    "ExecuteTime": {
     "end_time": "2017-04-17T14:55:46.489440Z",
     "start_time": "2017-04-17T10:55:45.073301-04:00"
    },
    "collapsed": false,
    "deletable": true,
    "editable": true
   },
   "outputs": [],
   "source": [
    "%%timeit\n",
    "obs1 = append_new_ob(obs, new_ob)"
   ]
  },
  {
   "cell_type": "code",
   "execution_count": null,
   "metadata": {
    "ExecuteTime": {
     "end_time": "2017-04-17T14:54:21.663080Z",
     "start_time": "2017-04-17T10:54:21.658413-04:00"
    },
    "collapsed": false,
    "deletable": true,
    "editable": true
   },
   "outputs": [],
   "source": [
    "Image.fromarray(append_new_ob(obs, new_ob)[:, :, 0])"
   ]
  },
  {
   "cell_type": "code",
   "execution_count": null,
   "metadata": {
    "ExecuteTime": {
     "end_time": "2017-04-17T14:54:34.055295Z",
     "start_time": "2017-04-17T10:54:34.042802-04:00"
    },
    "collapsed": false,
    "deletable": true,
    "editable": true
   },
   "outputs": [],
   "source": [
    "Image.fromarray(append_new_ob(obs, new_ob)[:, :, 1])"
   ]
  },
  {
   "cell_type": "code",
   "execution_count": null,
   "metadata": {
    "ExecuteTime": {
     "end_time": "2017-04-17T14:53:30.211692Z",
     "start_time": "2017-04-17T10:53:30.208870-04:00"
    },
    "collapsed": true,
    "deletable": true,
    "editable": true
   },
   "outputs": [],
   "source": [
    "def append_new_ob2(obs, new_ob):\n",
    "    np.roll(obs, 1, axis=2)\n",
    "    obs[:, :, 0] = new_ob[:, :, 0]\n",
    "    return obs"
   ]
  },
  {
   "cell_type": "code",
   "execution_count": null,
   "metadata": {
    "ExecuteTime": {
     "end_time": "2017-04-17T14:57:59.293437Z",
     "start_time": "2017-04-17T10:57:59.288410-04:00"
    },
    "collapsed": true,
    "deletable": true,
    "editable": true
   },
   "outputs": [],
   "source": [
    "state = preprocess(initial_observation)"
   ]
  },
  {
   "cell_type": "code",
   "execution_count": null,
   "metadata": {
    "ExecuteTime": {
     "end_time": "2017-04-17T14:57:57.398782Z",
     "start_time": "2017-04-17T10:57:53.189732-04:00"
    },
    "collapsed": false,
    "deletable": true,
    "editable": true
   },
   "outputs": [],
   "source": [
    "%%timeit\n",
    "obs2 = np.tile(state.reshape((84, 84, 1)), (1, 1, 4))"
   ]
  },
  {
   "cell_type": "code",
   "execution_count": null,
   "metadata": {
    "ExecuteTime": {
     "end_time": "2017-04-17T14:58:15.176228Z",
     "start_time": "2017-04-17T10:58:09.356910-04:00"
    },
    "collapsed": false,
    "deletable": true,
    "editable": true
   },
   "outputs": [],
   "source": [
    "%%timeit\n",
    "obs3 = np.stack([state] * 4, axis=2)"
   ]
  },
  {
   "cell_type": "code",
   "execution_count": null,
   "metadata": {
    "ExecuteTime": {
     "end_time": "2017-04-17T14:53:31.725215Z",
     "start_time": "2017-04-17T10:53:31.721022-04:00"
    },
    "collapsed": false,
    "deletable": true,
    "editable": true
   },
   "outputs": [],
   "source": [
    "obs2.shape"
   ]
  },
  {
   "cell_type": "code",
   "execution_count": null,
   "metadata": {
    "ExecuteTime": {
     "end_time": "2017-04-17T14:56:13.666230Z",
     "start_time": "2017-04-17T10:56:11.874531-04:00"
    },
    "collapsed": false,
    "deletable": true,
    "editable": true
   },
   "outputs": [],
   "source": [
    "%%timeit\n",
    "_ = append_new_ob2(obs2, new_ob)"
   ]
  },
  {
   "cell_type": "code",
   "execution_count": null,
   "metadata": {
    "ExecuteTime": {
     "end_time": "2017-04-17T14:53:41.616801Z",
     "start_time": "2017-04-17T10:53:41.613309-04:00"
    },
    "collapsed": false,
    "deletable": true,
    "editable": true
   },
   "outputs": [],
   "source": [
    "obs2.shape"
   ]
  },
  {
   "cell_type": "code",
   "execution_count": null,
   "metadata": {
    "ExecuteTime": {
     "end_time": "2017-04-17T14:54:44.469065Z",
     "start_time": "2017-04-17T10:54:44.463986-04:00"
    },
    "collapsed": false,
    "deletable": true,
    "editable": true
   },
   "outputs": [],
   "source": [
    "Image.fromarray(obs2[:, :, 0])"
   ]
  },
  {
   "cell_type": "code",
   "execution_count": null,
   "metadata": {
    "ExecuteTime": {
     "end_time": "2017-04-17T14:54:00.015573Z",
     "start_time": "2017-04-17T10:54:00.003320-04:00"
    },
    "collapsed": false,
    "deletable": true,
    "editable": true
   },
   "outputs": [],
   "source": [
    "Image.fromarray(obs2[:, :, 1])"
   ]
  },
  {
   "cell_type": "code",
   "execution_count": null,
   "metadata": {
    "ExecuteTime": {
     "end_time": "2017-04-17T15:28:02.164410Z",
     "start_time": "2017-04-17T11:28:02.154414-04:00"
    },
    "collapsed": false,
    "deletable": true,
    "editable": true
   },
   "outputs": [],
   "source": [
    "breakout.seed"
   ]
  },
  {
   "cell_type": "code",
   "execution_count": null,
   "metadata": {
    "collapsed": true,
    "deletable": true,
    "editable": true
   },
   "outputs": [],
   "source": []
  }
 ],
 "metadata": {
  "kernelspec": {
   "display_name": "Python 3",
   "language": "python",
   "name": "python3"
  },
  "language_info": {
   "codemirror_mode": {
    "name": "ipython",
    "version": 3
   },
   "file_extension": ".py",
   "mimetype": "text/x-python",
   "name": "python",
   "nbconvert_exporter": "python",
   "pygments_lexer": "ipython3",
   "version": "3.6.1"
  }
 },
 "nbformat": 4,
 "nbformat_minor": 2
}
