{
 "cells": [
  {
   "cell_type": "markdown",
   "metadata": {
    "deletable": true,
    "editable": true
   },
   "source": [
    "From gym/README.rst \n",
    "==========\n",
    "\n",
    "* There are two basic concepts in reinforcement learning: the environment (namely, the outside world) and the agent (namely, the algorithm you are writing). The agent sends actions to the environment, and the environment replies with observations and rewards (that is, a score).\n",
    "\n",
    "* The core gym interface is Env, which is the unified environment interface. There is no interface for agents; that part is left to you. The following are the Env methods you should know:\n",
    "\n",
    "  * reset(self): Reset the environment's state. Returns observation.\n",
    "  * step(self, action): Step the environment by one timestep. Returns observation, reward, done, info.\n",
    "  * render(self, mode='human', close=False): Render one frame of the environment. The default mode will do something human friendly, such as pop up a window. Passing the close flag signals the renderer to close any such windows."
   ]
  },
  {
   "cell_type": "markdown",
   "metadata": {
    "deletable": true,
    "editable": true
   },
   "source": [
    "From ALE manual:\n",
    "========\n",
    "\n",
    "* The action space consists of both Player A and Player B’s actions (see Section 7.1 for details). In general, Player B’s action may safely be set to noop (18) but it should be left out altogether if the restricted_action_set option is set to true.\n",
    "\n",
    "* Available Actions: The following regular actions are defined in common/Constants.h and interpreted by ALE:\n",
    "  * noop (0)  fire (1)  up (2)  right (3)  left (4) \n",
    "  * down (5)  up-right (6)  up-left (7)  down-right (8)  down-left (9)\n",
    "  * up-fire (10)  right-fire (11)  left-fire (12)  down-fire (13)  up-right-fire (14)\n",
    "  * up-left-fire (15)  down-right-fire (16)  down-left-fire (17)  reset* (40)\n",
    "\n",
    "* Note that the reset (40) action toggles the Atari 2600 switch, rather than reset the environment, and as such is ignored by most interfaces. The shared library, CTypes, and fifo interfaces provide methods for properly resetting the environment.\n",
    "\n",
    "* Player B’s actions are defined to be 18 + the equivalent action value for Player A. For example, Player B’s up action is up (20). In addition to the regular ALE actions, the following (somewhat deprecated) actions are also processed by the FIFO interfaces:\n",
    "\n",
    "* The observation space depends on whether the send_rgb option is enabled. When enabled, the observation space consists of 100,928 integers: first the 128 bytes of RAM (taking values in 0–255), followed by 100,800 bytes describing the screen. Each pixel is described by three bytes, taking values in 0–255, specifying the pixel’s red, green and blue components in that order. The screen is provided in row-order, beginning with the 160 pixels that compose the first row. If send_rgb is disabled (this is the default), the observation space consists of 33,728 integers: first the 128 bytes of RAM, then the 33,600 screen pixels (in NTSC format; values in 0–127). These pixels are also provided in row order.\n",
    "\n"
   ]
  },
  {
   "cell_type": "code",
   "execution_count": null,
   "metadata": {
    "ExecuteTime": {
     "end_time": "2017-04-19T23:39:51.737516Z",
     "start_time": "2017-04-19T19:39:51.102201-04:00"
    },
    "collapsed": false,
    "deletable": true,
    "editable": true
   },
   "outputs": [],
   "source": [
    "import numpy as np\n",
    "from PIL import Image\n",
    "import cProfile\n",
    "import pstats\n",
    "\n",
    "from dqn import AtariDQNAgent"
   ]
  },
  {
   "cell_type": "code",
   "execution_count": null,
   "metadata": {
    "ExecuteTime": {
     "end_time": "2017-04-19T23:39:51.892847Z",
     "start_time": "2017-04-19T19:39:51.738384-04:00"
    },
    "collapsed": false,
    "deletable": true,
    "editable": true
   },
   "outputs": [],
   "source": [
    "agent = AtariDQNAgent()"
   ]
  },
  {
   "cell_type": "code",
   "execution_count": null,
   "metadata": {
    "ExecuteTime": {
     "end_time": "2017-04-19T23:46:09.718279Z",
     "start_time": "2017-04-19T19:39:52.178267-04:00"
    },
    "collapsed": false,
    "deletable": true,
    "editable": true,
    "scrolled": true
   },
   "outputs": [],
   "source": [
    "agent.train(10000)"
   ]
  },
  {
   "cell_type": "code",
   "execution_count": null,
   "metadata": {
    "ExecuteTime": {
     "end_time": "2017-04-19T21:44:28.640386Z",
     "start_time": "2017-04-19T17:44:01.358934-04:00"
    },
    "collapsed": false
   },
   "outputs": [],
   "source": [
    "cProfile.run('agent.train(1000)', 'cprofile.out')"
   ]
  },
  {
   "cell_type": "code",
   "execution_count": null,
   "metadata": {
    "ExecuteTime": {
     "end_time": "2017-04-19T21:44:28.659568Z",
     "start_time": "2017-04-19T17:44:28.641373-04:00"
    },
    "collapsed": false
   },
   "outputs": [],
   "source": [
    "p = pstats.Stats('cprofile.out')\n",
    "p.sort_stats('tottime').print_stats(20)"
   ]
  },
  {
   "cell_type": "code",
   "execution_count": null,
   "metadata": {
    "ExecuteTime": {
     "end_time": "2017-04-19T21:43:55.250872Z",
     "start_time": "2017-04-19T17:43:55.246847-04:00"
    },
    "collapsed": false,
    "deletable": true,
    "editable": true
   },
   "outputs": [],
   "source": [
    "agent._replay_memory.index"
   ]
  },
  {
   "cell_type": "code",
   "execution_count": null,
   "metadata": {
    "ExecuteTime": {
     "end_time": "2017-04-19T20:09:37.347357Z",
     "start_time": "2017-04-19T16:09:37.343381-04:00"
    },
    "collapsed": false,
    "deletable": true,
    "editable": true
   },
   "outputs": [],
   "source": [
    "import random\n",
    "e = agent._replay_memory[random.randint(0, len(agent._replay_memory) - 1)]"
   ]
  },
  {
   "cell_type": "code",
   "execution_count": null,
   "metadata": {
    "ExecuteTime": {
     "end_time": "2017-04-19T20:09:37.838869Z",
     "start_time": "2017-04-19T16:09:37.834144-04:00"
    },
    "collapsed": false,
    "deletable": true,
    "editable": true
   },
   "outputs": [],
   "source": [
    "e[1], e[2], e[4]"
   ]
  },
  {
   "cell_type": "code",
   "execution_count": null,
   "metadata": {
    "ExecuteTime": {
     "end_time": "2017-04-19T20:09:38.942352Z",
     "start_time": "2017-04-19T16:09:38.939689-04:00"
    },
    "collapsed": false,
    "deletable": true,
    "editable": true
   },
   "outputs": [],
   "source": [
    "s = np.array(e[0][:,:,0], dtype=np.uint8)"
   ]
  },
  {
   "cell_type": "code",
   "execution_count": null,
   "metadata": {
    "ExecuteTime": {
     "end_time": "2017-04-19T20:09:39.407695Z",
     "start_time": "2017-04-19T16:09:39.402884-04:00"
    },
    "collapsed": false,
    "deletable": true,
    "editable": true
   },
   "outputs": [],
   "source": [
    "Image.fromarray(s)"
   ]
  },
  {
   "cell_type": "code",
   "execution_count": null,
   "metadata": {
    "ExecuteTime": {
     "end_time": "2017-04-18T19:23:01.879072Z",
     "start_time": "2017-04-18T15:22:59.767758-04:00"
    },
    "collapsed": false,
    "deletable": true,
    "editable": true
   },
   "outputs": [],
   "source": [
    "agent.train(100, save_path='checkpoints/Breakout-v0-50')"
   ]
  },
  {
   "cell_type": "code",
   "execution_count": null,
   "metadata": {
    "ExecuteTime": {
     "end_time": "2017-04-18T18:59:24.678378Z",
     "start_time": "2017-04-18T14:59:24.451207-04:00"
    },
    "collapsed": false,
    "deletable": true,
    "editable": true
   },
   "outputs": [],
   "source": [
    "agent._replay_memory"
   ]
  },
  {
   "cell_type": "code",
   "execution_count": null,
   "metadata": {
    "ExecuteTime": {
     "end_time": "2017-04-19T20:19:00.493667Z",
     "start_time": "2017-04-19T16:19:00.491687-04:00"
    },
    "collapsed": true,
    "deletable": true,
    "editable": true
   },
   "outputs": [],
   "source": [
    "import gym"
   ]
  },
  {
   "cell_type": "code",
   "execution_count": null,
   "metadata": {
    "ExecuteTime": {
     "end_time": "2017-04-19T20:19:01.238324Z",
     "start_time": "2017-04-19T16:19:01.215453-04:00"
    },
    "collapsed": false,
    "deletable": true,
    "editable": true
   },
   "outputs": [],
   "source": [
    "breakout = gym.make('Breakout-v0')"
   ]
  },
  {
   "cell_type": "code",
   "execution_count": null,
   "metadata": {
    "ExecuteTime": {
     "end_time": "2017-04-14T20:08:02.138020Z",
     "start_time": "2017-04-14T16:08:02.116232-04:00"
    },
    "collapsed": false,
    "deletable": true,
    "editable": true
   },
   "outputs": [],
   "source": [
    "#breakout.env.__init__(game='breakout', obs_type='image', frameskip=1, repeat_action_probability=0)"
   ]
  },
  {
   "cell_type": "code",
   "execution_count": null,
   "metadata": {
    "ExecuteTime": {
     "end_time": "2017-04-19T20:19:03.008536Z",
     "start_time": "2017-04-19T16:19:02.994681-04:00"
    },
    "collapsed": false,
    "deletable": true,
    "editable": true
   },
   "outputs": [],
   "source": [
    "observation = breakout.reset()\n",
    "state = None"
   ]
  },
  {
   "cell_type": "code",
   "execution_count": null,
   "metadata": {
    "ExecuteTime": {
     "end_time": "2017-04-19T20:31:04.689538Z",
     "start_time": "2017-04-19T16:31:04.683658-04:00"
    },
    "collapsed": false,
    "deletable": true,
    "editable": true
   },
   "outputs": [],
   "source": [
    "Image.fromarray(observation)"
   ]
  },
  {
   "cell_type": "code",
   "execution_count": null,
   "metadata": {
    "ExecuteTime": {
     "end_time": "2017-04-19T20:19:14.024939Z",
     "start_time": "2017-04-19T16:19:14.021499-04:00"
    },
    "collapsed": false
   },
   "outputs": [],
   "source": [
    "observation.dtype"
   ]
  },
  {
   "cell_type": "code",
   "execution_count": null,
   "metadata": {
    "ExecuteTime": {
     "end_time": "2017-04-19T20:19:21.825609Z",
     "start_time": "2017-04-19T16:19:21.821226-04:00"
    },
    "collapsed": false
   },
   "outputs": [],
   "source": [
    "observation.shape"
   ]
  },
  {
   "cell_type": "code",
   "execution_count": null,
   "metadata": {
    "ExecuteTime": {
     "end_time": "2017-04-19T20:31:06.249418Z",
     "start_time": "2017-04-19T16:31:06.246008-04:00"
    },
    "collapsed": true
   },
   "outputs": [],
   "source": [
    "R = observation[:, :, 0]\n",
    "G = observation[:, :, 1]\n",
    "B = observation[:, :, 2]\n",
    "phi = R * (299/1000) + G * (587/1000) + B * (114/1000)"
   ]
  },
  {
   "cell_type": "code",
   "execution_count": null,
   "metadata": {
    "ExecuteTime": {
     "end_time": "2017-04-19T20:31:06.600738Z",
     "start_time": "2017-04-19T16:31:06.595097-04:00"
    },
    "collapsed": false
   },
   "outputs": [],
   "source": [
    "phi.shape"
   ]
  },
  {
   "cell_type": "code",
   "execution_count": null,
   "metadata": {
    "ExecuteTime": {
     "end_time": "2017-04-19T20:31:06.913998Z",
     "start_time": "2017-04-19T16:31:06.908448-04:00"
    },
    "collapsed": false
   },
   "outputs": [],
   "source": [
    "Image.fromarray(np.array(phi, dtype=np.uint8))"
   ]
  },
  {
   "cell_type": "code",
   "execution_count": null,
   "metadata": {
    "ExecuteTime": {
     "end_time": "2017-04-19T20:30:15.024360Z",
     "start_time": "2017-04-19T16:30:15.020792-04:00"
    },
    "collapsed": false
   },
   "outputs": [],
   "source": [
    "phi = np.average(observation, weights=[0.299, 0.587, 0.114], axis=2)"
   ]
  },
  {
   "cell_type": "code",
   "execution_count": null,
   "metadata": {
    "ExecuteTime": {
     "end_time": "2017-04-19T20:09:19.882808Z",
     "start_time": "2017-04-19T16:09:19.879936-04:00"
    },
    "collapsed": true,
    "deletable": true,
    "editable": true
   },
   "outputs": [],
   "source": [
    "state = agent.preprocess_observation(observation, state)"
   ]
  },
  {
   "cell_type": "code",
   "execution_count": null,
   "metadata": {
    "ExecuteTime": {
     "end_time": "2017-04-19T20:09:20.396647Z",
     "start_time": "2017-04-19T16:09:20.390979-04:00"
    },
    "collapsed": false,
    "deletable": true,
    "editable": true
   },
   "outputs": [],
   "source": [
    "Image.fromarray(np.array(state[:, :, 0], dtype=np.uint8))"
   ]
  },
  {
   "cell_type": "code",
   "execution_count": null,
   "metadata": {
    "ExecuteTime": {
     "end_time": "2017-04-19T20:09:15.353098Z",
     "start_time": "2017-04-19T16:09:15.347877-04:00"
    },
    "collapsed": true,
    "deletable": true,
    "editable": true
   },
   "outputs": [],
   "source": [
    "observation, reward, done, info = breakout.step(3)"
   ]
  },
  {
   "cell_type": "code",
   "execution_count": null,
   "metadata": {
    "ExecuteTime": {
     "end_time": "2017-04-12T21:28:18.633786Z",
     "start_time": "2017-04-12T17:28:18.630816-04:00"
    },
    "collapsed": false,
    "deletable": true,
    "editable": true
   },
   "outputs": [],
   "source": [
    "breakout.action_space"
   ]
  },
  {
   "cell_type": "code",
   "execution_count": null,
   "metadata": {
    "ExecuteTime": {
     "end_time": "2017-04-12T21:28:18.957902Z",
     "start_time": "2017-04-12T17:28:18.953146-04:00"
    },
    "collapsed": false,
    "deletable": true,
    "editable": true
   },
   "outputs": [],
   "source": [
    "atari_action = {\n",
    "    0: 'noop',\n",
    "    1: 'fire',\n",
    "    2: 'up',\n",
    "    3: 'right',\n",
    "    4: 'left',\n",
    "    5: 'down',\n",
    "    11: 'right-fire',\n",
    "    12: 'left-fire',\n",
    "}"
   ]
  },
  {
   "cell_type": "code",
   "execution_count": null,
   "metadata": {
    "ExecuteTime": {
     "end_time": "2017-04-12T21:28:19.307892Z",
     "start_time": "2017-04-12T17:28:19.300712-04:00"
    },
    "collapsed": false,
    "deletable": true,
    "editable": true
   },
   "outputs": [],
   "source": [
    "for i, action_value in enumerate(breakout.env._action_set):\n",
    "    print('{}: {}'.format(i, atari_action[breakout.env._action_set[i]]))"
   ]
  },
  {
   "cell_type": "code",
   "execution_count": null,
   "metadata": {
    "ExecuteTime": {
     "end_time": "2017-04-14T20:22:39.893506Z",
     "start_time": "2017-04-14T16:22:39.885739-04:00"
    },
    "collapsed": false,
    "deletable": true,
    "editable": true
   },
   "outputs": [],
   "source": [
    "observation, reward, done, info = breakout.step(0)\n",
    "Image.fromarray(observation)"
   ]
  },
  {
   "cell_type": "code",
   "execution_count": null,
   "metadata": {
    "ExecuteTime": {
     "end_time": "2017-04-14T20:22:40.519143Z",
     "start_time": "2017-04-14T16:22:40.511839-04:00"
    },
    "collapsed": false,
    "deletable": true,
    "editable": true
   },
   "outputs": [],
   "source": [
    "info, done"
   ]
  },
  {
   "cell_type": "code",
   "execution_count": null,
   "metadata": {
    "ExecuteTime": {
     "end_time": "2017-04-14T20:21:09.941827Z",
     "start_time": "2017-04-14T16:20:58.049869-04:00"
    },
    "collapsed": false,
    "deletable": true,
    "editable": true
   },
   "outputs": [],
   "source": [
    "import random\n",
    "steps = 0\n",
    "breakout.reset()\n",
    "observation, reward, done, info = breakout.step(0)\n",
    "lives = info['ale.lives']\n",
    "while done or steps < 400:\n",
    "    observation, reward, done, info = breakout.step(random.randint(1, 2))\n",
    "    steps += 1"
   ]
  },
  {
   "cell_type": "code",
   "execution_count": null,
   "metadata": {
    "ExecuteTime": {
     "end_time": "2017-04-14T20:20:54.315770Z",
     "start_time": "2017-04-14T16:20:54.310780-04:00"
    },
    "collapsed": false,
    "deletable": true,
    "editable": true
   },
   "outputs": [],
   "source": [
    "Image.fromarray(observation)"
   ]
  },
  {
   "cell_type": "code",
   "execution_count": null,
   "metadata": {
    "ExecuteTime": {
     "end_time": "2017-04-18T19:21:43.037302Z",
     "start_time": "2017-04-18T15:21:43.010875-04:00"
    },
    "collapsed": false,
    "deletable": true,
    "editable": true
   },
   "outputs": [],
   "source": [
    "breakout.render()"
   ]
  },
  {
   "cell_type": "code",
   "execution_count": null,
   "metadata": {
    "ExecuteTime": {
     "end_time": "2017-04-11T20:03:18.387277Z",
     "start_time": "2017-04-11T16:03:18.383847-04:00"
    },
    "collapsed": false,
    "deletable": true,
    "editable": true
   },
   "outputs": [],
   "source": [
    "_ = breakout.step(0)"
   ]
  },
  {
   "cell_type": "code",
   "execution_count": null,
   "metadata": {
    "ExecuteTime": {
     "end_time": "2017-04-11T20:09:48.426237Z",
     "start_time": "2017-04-11T16:09:48.420566-04:00"
    },
    "collapsed": false,
    "deletable": true,
    "editable": true
   },
   "outputs": [],
   "source": [
    "reward, done, info"
   ]
  },
  {
   "cell_type": "code",
   "execution_count": null,
   "metadata": {
    "ExecuteTime": {
     "end_time": "2017-04-19T19:47:20.301854Z",
     "start_time": "2017-04-19T15:47:20.299246-04:00"
    },
    "collapsed": false,
    "deletable": true,
    "editable": true
   },
   "outputs": [],
   "source": [
    "print('{:g}'.format(2562692632018944.0))"
   ]
  },
  {
   "cell_type": "code",
   "execution_count": null,
   "metadata": {
    "ExecuteTime": {
     "end_time": "2017-04-19T23:36:28.030072Z",
     "start_time": "2017-04-19T19:36:28.028241-04:00"
    },
    "collapsed": true,
    "deletable": true,
    "editable": true
   },
   "outputs": [],
   "source": [
    "arr = np.random.rand(3, 4)"
   ]
  },
  {
   "cell_type": "code",
   "execution_count": null,
   "metadata": {
    "ExecuteTime": {
     "end_time": "2017-04-19T23:36:29.378419Z",
     "start_time": "2017-04-19T19:36:29.369848-04:00"
    },
    "collapsed": false
   },
   "outputs": [],
   "source": [
    "arr"
   ]
  },
  {
   "cell_type": "code",
   "execution_count": null,
   "metadata": {
    "ExecuteTime": {
     "end_time": "2017-04-19T23:36:45.088667Z",
     "start_time": "2017-04-19T19:36:45.082737-04:00"
    },
    "collapsed": false
   },
   "outputs": [],
   "source": [
    "np.amax(arr, axis=1)"
   ]
  },
  {
   "cell_type": "code",
   "execution_count": null,
   "metadata": {
    "ExecuteTime": {
     "end_time": "2017-04-19T21:39:10.727237Z",
     "start_time": "2017-04-19T17:39:10.725119-04:00"
    },
    "collapsed": false
   },
   "outputs": [],
   "source": [
    "mask = np.array([1, 0, 1])"
   ]
  },
  {
   "cell_type": "code",
   "execution_count": null,
   "metadata": {
    "ExecuteTime": {
     "end_time": "2017-04-19T21:39:12.749661Z",
     "start_time": "2017-04-19T17:39:12.746505-04:00"
    },
    "collapsed": false
   },
   "outputs": [],
   "source": [
    "mask"
   ]
  },
  {
   "cell_type": "code",
   "execution_count": null,
   "metadata": {
    "ExecuteTime": {
     "end_time": "2017-04-19T21:43:09.990363Z",
     "start_time": "2017-04-19T17:43:09.985831-04:00"
    },
    "collapsed": false
   },
   "outputs": [],
   "source": [
    "arr * (1 - mask[:, np.newaxis])"
   ]
  },
  {
   "cell_type": "code",
   "execution_count": null,
   "metadata": {
    "ExecuteTime": {
     "end_time": "2017-04-19T21:23:54.893918Z",
     "start_time": "2017-04-19T17:23:54.890186-04:00"
    },
    "collapsed": false
   },
   "outputs": [],
   "source": [
    "mask.dot(arr)"
   ]
  },
  {
   "cell_type": "code",
   "execution_count": null,
   "metadata": {
    "ExecuteTime": {
     "end_time": "2017-04-19T21:30:14.620978Z",
     "start_time": "2017-04-19T17:30:14.614618-04:00"
    },
    "collapsed": false
   },
   "outputs": [],
   "source": [
    "mask"
   ]
  },
  {
   "cell_type": "code",
   "execution_count": null,
   "metadata": {
    "ExecuteTime": {
     "end_time": "2017-04-19T21:30:22.548205Z",
     "start_time": "2017-04-19T17:30:22.540760-04:00"
    },
    "collapsed": false
   },
   "outputs": [],
   "source": [
    "np.ma.array(arr, [True, False, True])"
   ]
  },
  {
   "cell_type": "code",
   "execution_count": null,
   "metadata": {
    "collapsed": true
   },
   "outputs": [],
   "source": []
  }
 ],
 "metadata": {
  "kernelspec": {
   "display_name": "Python 3",
   "language": "python",
   "name": "python3"
  },
  "language_info": {
   "codemirror_mode": {
    "name": "ipython",
    "version": 3
   },
   "file_extension": ".py",
   "mimetype": "text/x-python",
   "name": "python",
   "nbconvert_exporter": "python",
   "pygments_lexer": "ipython3",
   "version": "3.6.1"
  }
 },
 "nbformat": 4,
 "nbformat_minor": 2
}
